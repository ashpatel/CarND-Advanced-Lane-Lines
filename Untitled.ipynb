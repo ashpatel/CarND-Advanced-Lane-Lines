{
 "cells": [
  {
   "cell_type": "code",
   "execution_count": 33,
   "metadata": {},
   "outputs": [
    {
     "name": "stdout",
     "output_type": "stream",
     "text": [
      "[[1, 2, 3, 4, 5, 6]]\n",
      "[[1, 2, 3, 4, 5, 6], [101, 102, 103, 104, 105, 106]]\n",
      "[[1, 2, 3, 4, 5, 6], [101, 102, 103, 104, 105, 106], [11, 12, 13, 14, 15, 16]]\n",
      "[[1, 2, 3, 4, 5, 6], [101, 102, 103, 104, 105, 106], [11, 12, 13, 14, 15, 16], [1101, 1102, 1103, 1104, 1105, 1106]]\n",
      "[1, 2, 3, 4, 5, 6, 101, 102, 103, 104, 105, 106, 11, 12, 13, 14, 15, 16, 1101, 1102, 1103, 1104, 1105, 1106]\n",
      "[303.5, 304.5, 305.5, 306.5, 307.5, 308.5]\n"
     ]
    }
   ],
   "source": [
    "\n",
    "xfitted = []\n",
    "x1 = [1,2,3,4,5,6]\n",
    "y1 = [1,2,3,4,5,6]\n",
    "\n",
    "x2 = [11,12,13,14,15,16]\n",
    "y2 = [11,12,13,14,15,16]\n",
    "\n",
    "x3 = [101,102,103,104,105,106]\n",
    "y3 = [101,102,103,104,105,106]\n",
    "\n",
    "x4 = [1101,1102,1103,1104,1105,1106]\n",
    "y5 = [1101,1102,1103,1104,1105,1106]\n",
    "xfitted.append(x1)\n",
    "print (xfitted)\n",
    "xfitted.append(x3)\n",
    "print (xfitted)\n",
    "xfitted.append(x2)\n",
    "print (xfitted)\n",
    "xfitted.append(x4)\n",
    "print (xfitted)\n",
    "\n",
    "#xfitted.pop(0)\n",
    "\n",
    "z = []\n",
    "for x in xfitted:\n",
    "    z = z + x\n",
    "    \n",
    "print (z)\n",
    "llen = len(xfitted)\n",
    "avg = [float(sum(col))/llen for col in zip(*xfitted)]\n",
    "\n",
    "print (avg)"
   ]
  },
  {
   "cell_type": "code",
   "execution_count": 29,
   "metadata": {},
   "outputs": [
    {
     "name": "stdout",
     "output_type": "stream",
     "text": [
      "[243.0, 240.5, 236.5]\n"
     ]
    }
   ],
   "source": [
    "data = [[240, 240, 239],\n",
    "        [250, 249, 237], \n",
    "        [242, 239, 237],\n",
    "        [240, 234, 233]]\n",
    "avg = [float(sum(col))/len(col) for col in zip(*data)]\n",
    "print (avg)"
   ]
  }
 ],
 "metadata": {
  "kernelspec": {
   "display_name": "Python 3",
   "language": "python",
   "name": "python3"
  },
  "language_info": {
   "codemirror_mode": {
    "name": "ipython",
    "version": 3
   },
   "file_extension": ".py",
   "mimetype": "text/x-python",
   "name": "python",
   "nbconvert_exporter": "python",
   "pygments_lexer": "ipython3",
   "version": "3.5.2"
  },
  "widgets": {
   "state": {},
   "version": "1.1.2"
  }
 },
 "nbformat": 4,
 "nbformat_minor": 2
}
